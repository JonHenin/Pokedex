{
 "cells": [
  {
   "cell_type": "code",
   "execution_count": 3,
   "metadata": {},
   "outputs": [
    {
     "name": "stdout",
     "output_type": "stream",
     "text": [
      "WARNING:tensorflow:From C:\\Users\\jonat\\anaconda3\\envs\\tf_gpu\\lib\\site-packages\\tensorflow\\python\\compat\\v2_compat.py:96: disable_resource_variables (from tensorflow.python.ops.variable_scope) is deprecated and will be removed in a future version.\n",
      "Instructions for updating:\n",
      "non-resource variables are not supported in the long term\n"
     ]
    },
    {
     "name": "stderr",
     "output_type": "stream",
     "text": [
      "Using TensorFlow backend.\n"
     ]
    }
   ],
   "source": [
    "import os\n",
    "import sys\n",
    "\n",
    "def get_parent_dir(n=1):\n",
    "    \"\"\" returns the n-th parent dicrectory of the current\n",
    "    working directory \"\"\"\n",
    "    current_path = os.path.dirname(os.path.abspath('C:\\\\Users\\\\jonat\\\\Documents\\\\Masters\\\\YOLOgpu\\\\3_Inference\\\\Detector.py'))\n",
    "    for k in range(n):\n",
    "        current_path = os.path.dirname(current_path)\n",
    "    return current_path\n",
    "\n",
    "src_path = os.path.join(get_parent_dir(1),'2_Training','src')\n",
    "utils_path = os.path.join(get_parent_dir(1),'Utils')\n",
    "\n",
    "sys.path.append(src_path)\n",
    "sys.path.append(utils_path)\n",
    "\n",
    "import argparse\n",
    "from keras_yolo3.yolo import YOLO, detect_video\n",
    "from PIL import Image\n",
    "from timeit import default_timer as timer\n",
    "from utils import load_extractor_model, load_features, parse_input, detect_object\n",
    "import test\n",
    "import utils\n",
    "import pandas as pd\n",
    "import numpy as np\n",
    "from Get_File_Paths import GetFileList\n",
    "import random"
   ]
  },
  {
   "cell_type": "code",
   "execution_count": 4,
   "metadata": {},
   "outputs": [],
   "source": [
    "os.environ['TF_CPP_MIN_LOG_LEVEL'] = '3' \n",
    "\n",
    "# Set up folder names for default values\n",
    "data_folder = os.path.join(get_parent_dir(n=1),'Data')\n",
    "\n",
    "image_folder = os.path.join(data_folder,'Source_Images')\n",
    "\n",
    "image_test_folder = os.path.join(image_folder,'Test_Images')\n",
    "\n",
    "detection_results_folder = os.path.join(image_folder,'Test_Image_Detection_Results') \n",
    "detection_results_file = os.path.join(detection_results_folder, 'Detection_Results.csv')\n",
    "\n",
    "model_folder =  os.path.join(data_folder,'Model_Weights')\n",
    "\n",
    "model_weights = os.path.join(model_folder,'trained_weights_final.h5')\n",
    "model_classes = os.path.join(model_folder,'data_classes.txt')\n",
    "\n",
    "anchors_path = os.path.join(src_path,'keras_yolo3','model_data','yolo_anchors.txt')\n",
    "\n",
    "FLAGS = None"
   ]
  },
  {
   "cell_type": "code",
   "execution_count": 6,
   "metadata": {},
   "outputs": [
    {
     "data": {
      "text/plain": [
       "_StoreAction(option_strings=['--postfix'], dest='postfix', nargs=None, const=None, default='_catface', type=<class 'str'>, choices=None, help='Specify the postfix for images with bounding boxes. Default is \"_catface\"', metavar=None)"
      ]
     },
     "execution_count": 6,
     "metadata": {},
     "output_type": "execute_result"
    }
   ],
   "source": [
    "parser = argparse.ArgumentParser(argument_default=argparse.SUPPRESS)\n",
    "'''\n",
    "Command line options\n",
    "'''\n",
    "\n",
    "parser.add_argument(\n",
    "    \"--input_path\", type=str, default=image_test_folder,\n",
    "    help = \"Path to image/video directory. All subdirectories will be included. Default is \" + image_test_folder\n",
    ")\n",
    "\n",
    "parser.add_argument(\n",
    "    \"--output\", type=str, default=detection_results_folder,\n",
    "    help = \"Output path for detection results. Default is \" + detection_results_folder\n",
    ")\n",
    "\n",
    "parser.add_argument(\n",
    "    \"--no_save_img\", default=False, action=\"store_true\",\n",
    "    help = \"Only save bounding box coordinates but do not save output images with annotated boxes. Default is False.\"\n",
    ")\n",
    "\n",
    "parser.add_argument(\n",
    "    \"--file_types\", '--names-list', nargs='*', default=[], \n",
    "    help = \"Specify list of file types to include. Default is --file_types .jpg .jpeg .png .mp4\"\n",
    ")\n",
    "\n",
    "parser.add_argument(\n",
    "    '--yolo_model', type=str, dest='model_path', default = model_weights,\n",
    "    help='Path to pre-trained weight files. Default is ' + model_weights\n",
    ")\n",
    "\n",
    "parser.add_argument(\n",
    "    '--anchors', type=str, dest='anchors_path', default = anchors_path,\n",
    "    help='Path to YOLO anchors. Default is '+ anchors_path\n",
    ")\n",
    "\n",
    "parser.add_argument(\n",
    "    '--classes', type=str, dest='classes_path', default = model_classes,\n",
    "    help='Path to YOLO class specifications. Default is ' + model_classes\n",
    ")\n",
    "\n",
    "parser.add_argument(\n",
    "    '--gpu_num', type=int, default = 1,\n",
    "    help='Number of GPU to use. Default is 1'\n",
    ")\n",
    "\n",
    "parser.add_argument(\n",
    "    '--confidence', type=float, dest = 'score', default = 0.25,\n",
    "    help='Threshold for YOLO object confidence score to show predictions. Default is 0.25.'\n",
    ")\n",
    "\n",
    "\n",
    "parser.add_argument(\n",
    "    '--box_file', type=str, dest = 'box', default = detection_results_file,\n",
    "    help='File to save bounding box results to. Default is ' + detection_results_file\n",
    ")\n",
    "\n",
    "parser.add_argument(\n",
    "    '--postfix', type=str, dest = 'postfix', default = '_catface',\n",
    "    help='Specify the postfix for images with bounding boxes. Default is \"_catface\"'\n",
    ")"
   ]
  },
  {
   "cell_type": "code",
   "execution_count": 7,
   "metadata": {},
   "outputs": [
    {
     "name": "stderr",
     "output_type": "stream",
     "text": [
      "usage: ipykernel_launcher.py [-h] [--input_path INPUT_PATH] [--output OUTPUT]\n",
      "                             [--no_save_img]\n",
      "                             [--file_types [FILE_TYPES [FILE_TYPES ...]]]\n",
      "                             [--yolo_model MODEL_PATH]\n",
      "                             [--anchors ANCHORS_PATH] [--classes CLASSES_PATH]\n",
      "                             [--gpu_num GPU_NUM] [--confidence SCORE]\n",
      "                             [--box_file BOX] [--postfix POSTFIX]\n",
      "ipykernel_launcher.py: error: unrecognized arguments: -f C:\\Users\\jonat\\AppData\\Roaming\\jupyter\\runtime\\kernel-bb2954d0-cc07-45bb-a928-f990d4cb0217.json\n"
     ]
    },
    {
     "ename": "SystemExit",
     "evalue": "2",
     "output_type": "error",
     "traceback": [
      "An exception has occurred, use %tb to see the full traceback.\n",
      "\u001b[1;31mSystemExit\u001b[0m\u001b[1;31m:\u001b[0m 2\n"
     ]
    },
    {
     "name": "stderr",
     "output_type": "stream",
     "text": [
      "C:\\Users\\jonat\\anaconda3\\envs\\tf_gpu\\lib\\site-packages\\IPython\\core\\interactiveshell.py:3339: UserWarning: To exit: use 'exit', 'quit', or Ctrl-D.\n",
      "  warn(\"To exit: use 'exit', 'quit', or Ctrl-D.\", stacklevel=1)\n"
     ]
    }
   ],
   "source": [
    "FLAGS = parser.parse_args()\n",
    "\n",
    "save_img = not FLAGS.no_save_img\n",
    "\n",
    "file_types = FLAGS.file_types"
   ]
  },
  {
   "cell_type": "code",
   "execution_count": null,
   "metadata": {},
   "outputs": [],
   "source": []
  }
 ],
 "metadata": {
  "kernelspec": {
   "display_name": "tf_gpu",
   "language": "python",
   "name": "tf_gpu"
  },
  "language_info": {
   "codemirror_mode": {
    "name": "ipython",
    "version": 3
   },
   "file_extension": ".py",
   "mimetype": "text/x-python",
   "name": "python",
   "nbconvert_exporter": "python",
   "pygments_lexer": "ipython3",
   "version": "3.7.7"
  }
 },
 "nbformat": 4,
 "nbformat_minor": 4
}
